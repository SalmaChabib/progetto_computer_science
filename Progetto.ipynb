{
 "cells": [
  {
   "cell_type": "markdown",
   "metadata": {},
   "source": [
    "***Anno Accademico 2020/21 Foundations of Computer Science***"
   ]
  },
  {
   "cell_type": "markdown",
   "metadata": {},
   "source": [
    "*Alice Calvi 818100*\n",
    "\n",
    "*Salma Chabib 872519*\n",
    "\n",
    "*Alessandra Maggipinto 872562*"
   ]
  },
  {
   "cell_type": "markdown",
   "metadata": {},
   "source": [
    "*Abbiamo importato le librerie*\n"
   ]
  },
  {
   "cell_type": "code",
   "execution_count": null,
   "metadata": {},
   "outputs": [],
   "source": [
    "import pandas as pd\n",
    "import re\n",
    "import numpy as np"
   ]
  },
  {
   "cell_type": "markdown",
   "metadata": {},
   "source": [
    "*Facciamo read csv di tutti i dataframe*"
   ]
  },
  {
   "cell_type": "code",
   "execution_count": null,
   "metadata": {},
   "outputs": [],
   "source": [
    "timesData = pd.read_csv(\"dataframe/timesData.csv\")\n",
    "timesData ['year'] = pd.to_datetime(timesData['year'], format = '%Y')\n",
    "timesData.head()"
   ]
  },
  {
   "cell_type": "code",
   "execution_count": null,
   "metadata": {},
   "outputs": [],
   "source": [
    "timesData.replace(to_replace = '-', value = np.nan, inplace = True)\n",
    "timesData.head()"
   ]
  },
  {
   "cell_type": "code",
   "execution_count": null,
   "metadata": {
    "scrolled": true
   },
   "outputs": [],
   "source": [
    "shanghaiData = pd.read_csv(\"dataframe/shanghaiData.csv\")\n",
    "shanghaiData ['year'] = pd.to_datetime(shanghaiData['year'], format = '%Y')\n",
    "shanghaiData.head()"
   ]
  },
  {
   "cell_type": "markdown",
   "metadata": {},
   "source": [
    "*modifichiamo il nome delle università in modo da averle nello stesso formato nel dataframe shanghaiData*"
   ]
  },
  {
   "cell_type": "code",
   "execution_count": null,
   "metadata": {
    "scrolled": false
   },
   "outputs": [],
   "source": [
    "shanghaiData['university_name'] = shanghaiData['university_name'].str.replace('Aix Marseille University', 'Aix-Marseille University', regex =True)\n",
    "shanghaiData['university_name'] = shanghaiData['university_name'].str.replace('Arizona State University - Tempe', 'Arizona State University', regex =True)\n",
    "shanghaiData['university_name'] = shanghaiData['university_name'].str.replace('Ecole Normale Superieure - Lyon','Ecole Normale Superieure de Lyon', regex= True)\n",
    "shanghaiData['university_name'] = shanghaiData['university_name'].str.replace('Scuola Normale Superiore - Pisa','Scuola Normale Superiore di Pisa', regex= True)\n",
    "shanghaiData['university_name'] = shanghaiData['university_name'].str.replace('Queen Mary, U. of London','Queen Mary, University of London', regex= True)\n",
    "shanghaiData['university_name'] = shanghaiData['university_name'].str.replace('Royal Holloway, U. of London','Royal Holloway, University of London', regex= True)\n",
    "shanghaiData['university_name'] = shanghaiData['university_name'].str.replace('Texas A & M University','Texas A&M University', regex= True)\n",
    "\n",
    "#per togliere gli acronimi nelle parentesi\n",
    "shanghaiData['university_name'] = shanghaiData['university_name'].str.replace('\\s+\\(\\w+\\-*\\w*\\s*\\d*\\)','', regex=True)\n",
    "\n",
    "#per togliere il nome del campus dopo le università\n",
    "shanghaiData['university_name'] = shanghaiData['university_name'].str.replace('\\s+\\-+\\s+\\w+\\s*\\d*\\w*','', regex=True)\n",
    "\n",
    "#togliere il THE davanti alle università\n",
    "shanghaiData['university_name'] = shanghaiData['university_name'].str.replace('^The','', regex=True)\n",
    "shanghaiData['university_name'] = shanghaiData['university_name'].str.replace('^\\s','', regex=True)\n",
    "\n",
    "#controllo = shanghaiData.iloc[(shanghaiData.groupby('university_name')['year'].idxmax())].copy()\n",
    "#controllo['university_name'] = controllo['university_name'].unique()\n",
    "#università_s = controllo['university_name'].to_list()\n",
    "#università_s\n",
    "#school_and_country['school_name'] = school_and_country['school_name'].unique()\n",
    "#università_giuste= school_and_country['school_name'].to_list()\n"
   ]
  },
  {
   "cell_type": "code",
   "execution_count": null,
   "metadata": {},
   "outputs": [],
   "source": [
    "school_and_country = pd.read_csv(\"dataframe/school_and_country_table.csv\")\n",
    "school_and_country.head()"
   ]
  },
  {
   "cell_type": "code",
   "execution_count": null,
   "metadata": {},
   "outputs": [],
   "source": [
    "cwurData = pd.read_csv(\"dataframe/cwurData.csv\")\n",
    "cwurData ['year'] = pd.to_datetime(cwurData['year'], format = '%Y')\n",
    "cwurData.head()"
   ]
  },
  {
   "cell_type": "markdown",
   "metadata": {},
   "source": [
    "*modifichiamo il nome delle università in modo da averle nello stesso formato nel dataframe cwurData*"
   ]
  },
  {
   "cell_type": "code",
   "execution_count": null,
   "metadata": {},
   "outputs": [],
   "source": [
    "#per togliere il nome del campus dopo le università\n",
    "cwurData['institution'] = cwurData['institution'].str.replace('\\s+\\-+\\s+\\w+\\s*\\d*\\w*','', regex=True)\n",
    "\n",
    "#per togliere gli acronimi nelle parentesi\n",
    "cwurData['institution'] = cwurData['institution'].str.replace('\\s+\\(\\w+\\-*\\w*\\s*\\d*\\)','', regex=True)\n",
    "\n",
    "#con acronimo anche in school_and_country\n",
    "cwurData['institution'] = cwurData['institution'].str.replace('Korea Advanced Institute of Science and Technology','Korea Advanced Institute of Science and Technology (KAIST)', regex=True)\n",
    "\n",
    "#cwur_controllo = cwurData.iloc[(cwurData.groupby('institution')['year'].idxmax())]\n",
    "#university = cwur_controllo['institution'].to_list()\n",
    "#school_and_country['school_name'] = school_and_country['school_name'].unique()\n",
    "#università= school_and_country['school_name'].to_list()"
   ]
  },
  {
   "cell_type": "code",
   "execution_count": null,
   "metadata": {},
   "outputs": [],
   "source": [
    "educational_attainment = pd.read_csv(\"dataframe/educational_attainment_supplementary_data.csv\")\n",
    "educational_attainment.head()"
   ]
  },
  {
   "cell_type": "code",
   "execution_count": null,
   "metadata": {
    "scrolled": true
   },
   "outputs": [],
   "source": [
    "education_expenditure = pd.read_csv(\"dataframe/education_expenditure_supplementary_data.csv\",engine='python')\n",
    "education_expenditure.head()"
   ]
  },
  {
   "cell_type": "code",
   "execution_count": null,
   "metadata": {},
   "outputs": [],
   "source": [
    "timesData.info() #per controllare il tipo delle variabili"
   ]
  },
  {
   "cell_type": "code",
   "execution_count": null,
   "metadata": {},
   "outputs": [],
   "source": [
    "timesData['income']= pd.to_numeric(timesData['income'], errors='coerce') #da object me lo trasforma in float64"
   ]
  },
  {
   "cell_type": "code",
   "execution_count": null,
   "metadata": {},
   "outputs": [],
   "source": [
    "timesData.info()"
   ]
  },
  {
   "cell_type": "markdown",
   "metadata": {},
   "source": [
    "### 1. For each university, extract from the times dataset the most recent and the least recent data, obtaining two separate dataframe"
   ]
  },
  {
   "cell_type": "markdown",
   "metadata": {},
   "source": [
    "*A partire dal dataframe 'Times', raggruppiamo per 'university_name', estraiamo l'anno e prendiamo il massimo ovvero quello più recente in più abbiamo settato come indice il nome delle università*"
   ]
  },
  {
   "cell_type": "code",
   "execution_count": null,
   "metadata": {
    "scrolled": true
   },
   "outputs": [],
   "source": [
    "most_recent_data=timesData.iloc[(timesData.groupby('university_name')['year'].idxmax())]\n",
    "most_recent_data.set_index('university_name', inplace = True) \n",
    "most_recent_data.head()"
   ]
  },
  {
   "cell_type": "code",
   "execution_count": null,
   "metadata": {},
   "outputs": [],
   "source": [
    "#controllo se i nomi delle università sono scritti bene\n",
    "#most_recent_data['university_name'] = most_recent_data['university_name'].unique()\n",
    "#università_times = most_recent_data['university_name'].to_list()\n",
    "#school_and_country['school_name'] = school_and_country['school_name'].unique()\n",
    "#università= school_and_country['school_name'].to_list()\n",
    "#len(università_times)"
   ]
  },
  {
   "cell_type": "code",
   "execution_count": null,
   "metadata": {},
   "outputs": [],
   "source": [
    "#c = 0\n",
    "#for nome in università_times:\n",
    "    #for university in università:\n",
    "        #if nome == university:\n",
    "           # c+=1\n",
    "#c"
   ]
  },
  {
   "cell_type": "markdown",
   "metadata": {},
   "source": [
    "*A partire dal dataframe 'Times', raggruppiamo per 'university_name', estraiamo l'anno e prendiamo il minimo ovvero quello meno recente in più abbiamo settato come indice il nome delle università*"
   ]
  },
  {
   "cell_type": "code",
   "execution_count": null,
   "metadata": {},
   "outputs": [],
   "source": [
    "least_recent_data=timesData.iloc[(timesData.groupby('university_name')['year'].idxmin())]\n",
    "least_recent_data.set_index('university_name', inplace = True) \n",
    "least_recent_data.head()"
   ]
  },
  {
   "cell_type": "markdown",
   "metadata": {},
   "source": [
    "### 2. For each university, compute the improvement in \"income\" between the least recent and the most recent data points"
   ]
  },
  {
   "cell_type": "markdown",
   "metadata": {},
   "source": [
    "*Facciamo il merge delle 2 tabelle precedentemente ottenute usando 'university_name'*"
   ]
  },
  {
   "cell_type": "code",
   "execution_count": null,
   "metadata": {},
   "outputs": [],
   "source": [
    "punto2=pd.merge(most_recent_data, least_recent_data, on='university_name')\n",
    "punto2.head()"
   ]
  },
  {
   "cell_type": "code",
   "execution_count": null,
   "metadata": {},
   "outputs": [],
   "source": [
    "punto2.columns"
   ]
  },
  {
   "cell_type": "markdown",
   "metadata": {},
   "source": [
    "*Rinominiamo le colonne di interesse*"
   ]
  },
  {
   "cell_type": "code",
   "execution_count": null,
   "metadata": {},
   "outputs": [],
   "source": [
    "punto2=punto2.rename(columns={'income_x':'income_most_recent','income_y':'income_least_recent'})\n",
    "punto2.head()"
   ]
  },
  {
   "cell_type": "markdown",
   "metadata": {},
   "source": [
    "*Calcolo dell'income improvement*"
   ]
  },
  {
   "cell_type": "code",
   "execution_count": null,
   "metadata": {},
   "outputs": [],
   "source": [
    "punto2['income_improvement']=punto2['income_most_recent']-punto2['income_least_recent']\n",
    "punto2.head()"
   ]
  },
  {
   "cell_type": "code",
   "execution_count": null,
   "metadata": {},
   "outputs": [],
   "source": [
    "punto2['income_improvement']"
   ]
  },
  {
   "cell_type": "markdown",
   "metadata": {},
   "source": [
    "### 3. Find the university with the largest increase computed in the previous point"
   ]
  },
  {
   "cell_type": "markdown",
   "metadata": {},
   "source": [
    "*Prendiamo l'università con income improvement più elevato*"
   ]
  },
  {
   "cell_type": "code",
   "execution_count": null,
   "metadata": {},
   "outputs": [],
   "source": [
    "#punto2.loc[punto2['income_improvement']>= punto2['income_improvement'].max()] \n",
    "punto2['income_improvement'].loc[punto2['income_improvement']>= punto2['income_improvement'].max()] "
   ]
  },
  {
   "cell_type": "markdown",
   "metadata": {},
   "source": [
    "### 4. For each ranking, consider only the most recent data point. For each university, compute the maximum difference between the rankings (e.g. for Aarhus University the value is 122-73=49). Notice that some rankings are expressed as a range"
   ]
  },
  {
   "cell_type": "markdown",
   "metadata": {},
   "source": [
    "*Per 'ShanghaiData' e 'CwurData' abbiamo raggruppato per il nome delle università e poi abbiamo estratto le righe con l'anno più recente*"
   ]
  },
  {
   "cell_type": "code",
   "execution_count": null,
   "metadata": {},
   "outputs": [],
   "source": [
    "most_recent_s=shanghaiData.iloc[(shanghaiData.groupby('university_name')['year'].idxmax())].copy()\n",
    "most_recent_c=cwurData.iloc[(cwurData.groupby('institution')['year'].idxmax())].copy()\n",
    "most_recent_t=timesData.iloc[(timesData.groupby('university_name')['year'].idxmax())].copy()"
   ]
  },
  {
   "cell_type": "code",
   "execution_count": null,
   "metadata": {},
   "outputs": [],
   "source": [
    "lista_t = most_recent_t['world_rank']\n",
    "df_t =pd.DataFrame(lista_t)\n",
    "\n",
    "# Abbiamo \"spezzato\" il range in modo da avere i due valori separati usando le espressioni regolari\n",
    "df_t['min_range'] = df_t['world_rank'].str.extract(r'^\\=?(\\d+)')\n",
    "df_t['max_range'] = df_t['world_rank'].str.extract(r'(\\d+$)')\n",
    "\n",
    "df_t[['min_range','max_range']]=df_t[['min_range','max_range']].astype(float)\n",
    "\n",
    "most_recent_t['world_rank_t'] = (df_t['max_range'] + df_t['min_range'])//2\n",
    "most_recent_t.head()"
   ]
  },
  {
   "cell_type": "code",
   "execution_count": null,
   "metadata": {},
   "outputs": [],
   "source": [
    "#rifacciamo per shanghai\n",
    "lista_s = most_recent_s['world_rank']\n",
    "df_s =pd.DataFrame(lista_s)\n",
    "\n",
    "df_s['min_range'] = df_s['world_rank'].str.extract(r'^\\=?(\\d+)')\n",
    "df_s['max_range'] = df_s['world_rank'].str.extract(r'(\\d+$)')\n",
    "\n",
    "df_s[['min_range','max_range']]=df_s[['min_range','max_range']].astype(float)\n",
    "\n",
    "\n",
    "most_recent_s['world_rank_s'] = (df_s['max_range'] + df_s['min_range'])//2\n",
    "most_recent_s.head()"
   ]
  },
  {
   "cell_type": "code",
   "execution_count": null,
   "metadata": {},
   "outputs": [],
   "source": [
    "most_recent_c.info()"
   ]
  },
  {
   "cell_type": "code",
   "execution_count": null,
   "metadata": {},
   "outputs": [],
   "source": [
    "most_recent_c.rename(columns={'world_rank':'world_rank_c'}, inplace=True)\n",
    "most_recent_c.head()"
   ]
  },
  {
   "cell_type": "code",
   "execution_count": null,
   "metadata": {},
   "outputs": [],
   "source": [
    "primo_merge = pd.merge(most_recent_t, most_recent_s, on='university_name', how='left' , suffixes = ('_times','_shanghai'))\n",
    "primo_merge"
   ]
  },
  {
   "cell_type": "code",
   "execution_count": null,
   "metadata": {},
   "outputs": [],
   "source": [
    "secondo_merge = pd.merge(primo_merge, most_recent_c, left_on= 'university_name', right_on = 'institution', how='left')\n",
    "secondo_merge"
   ]
  },
  {
   "cell_type": "code",
   "execution_count": null,
   "metadata": {},
   "outputs": [],
   "source": [
    "secondo_merge.columns"
   ]
  },
  {
   "cell_type": "code",
   "execution_count": null,
   "metadata": {},
   "outputs": [],
   "source": [
    "secondo_merge.rename(columns={'year':'year_cwur'}, inplace=True)\n",
    "secondo_merge.head()"
   ]
  },
  {
   "cell_type": "code",
   "execution_count": null,
   "metadata": {},
   "outputs": [],
   "source": [
    "#trovo il world rank massimo e minimo tra i 3 rankings\n",
    "secondo_merge['HighScore'] = secondo_merge[['world_rank_t','world_rank_c','world_rank_s']].max(axis = 1)\n",
    "secondo_merge['LowScore'] = secondo_merge[['world_rank_t','world_rank_c','world_rank_s']].min(axis = 1)\n",
    "\n",
    "#calcolo\n",
    "secondo_merge['maximum_difference'] = secondo_merge['HighScore']-secondo_merge['LowScore']\n",
    "secondo_merge[['university_name','maximum_difference','HighScore','LowScore','world_rank_t','world_rank_c','world_rank_s']]"
   ]
  },
  {
   "cell_type": "markdown",
   "metadata": {},
   "source": [
    "### 5. Consider only the most recent data point of the times dataset. Compute the number of male and female students for each country."
   ]
  },
  {
   "cell_type": "code",
   "execution_count": null,
   "metadata": {},
   "outputs": [],
   "source": [
    "most_recent_t.info()"
   ]
  },
  {
   "cell_type": "markdown",
   "metadata": {},
   "source": [
    "*Estraiamo le proporzioni per female e male usando le espressioni regolari, prima però eliminiamo i valori nulli*"
   ]
  },
  {
   "cell_type": "code",
   "execution_count": null,
   "metadata": {},
   "outputs": [],
   "source": [
    "most_recent_t.dropna(subset=['num_students'], axis=0, inplace=True)\n",
    "most_recent_t.dropna(subset=['female_male_ratio'], axis=0, inplace=True)"
   ]
  },
  {
   "cell_type": "code",
   "execution_count": null,
   "metadata": {},
   "outputs": [],
   "source": [
    "most_recent_t['female'] = most_recent_t['female_male_ratio'].str.extract(r'(^\\d+)')\n",
    "most_recent_t['male'] = most_recent_t['female_male_ratio'].str.extract(r'(\\d+$)')\n",
    "most_recent_t.head()"
   ]
  },
  {
   "cell_type": "code",
   "execution_count": null,
   "metadata": {},
   "outputs": [],
   "source": [
    "most_recent_t.info() #notiamo che female e male sono di tipo 'object'"
   ]
  },
  {
   "cell_type": "code",
   "execution_count": null,
   "metadata": {},
   "outputs": [],
   "source": [
    "most_recent_t[['male','female']]=most_recent_t[['male','female']].astype(float)"
   ]
  },
  {
   "cell_type": "code",
   "execution_count": null,
   "metadata": {},
   "outputs": [],
   "source": [
    "most_recent_t.info() #ora notiamo che female e male sono di tipo 'float64' (anche num_students che verrà castato di seguito)"
   ]
  },
  {
   "cell_type": "markdown",
   "metadata": {},
   "source": [
    "*Abbiamo tolto la virgola delle migliaia*"
   ]
  },
  {
   "cell_type": "code",
   "execution_count": null,
   "metadata": {},
   "outputs": [],
   "source": [
    "most_recent_t['num_students'] = most_recent_t['num_students'].str.replace(',','')\n",
    "most_recent_t['num_students']=most_recent_t['num_students'].astype(float)\n",
    "most_recent_t.head()"
   ]
  },
  {
   "cell_type": "markdown",
   "metadata": {},
   "source": [
    "*Abbiamo calcolato il numero di femmine e maschi per università usando la proporzione*"
   ]
  },
  {
   "cell_type": "code",
   "execution_count": null,
   "metadata": {},
   "outputs": [],
   "source": [
    "most_recent_t['num_male']= most_recent_t['male'] * most_recent_t['num_students'] // 100\n",
    "most_recent_t['num_fem']= most_recent_t['female'] * most_recent_t['num_students'] // 100\n",
    "num_Donne_Uomini=most_recent_t.groupby('country')[['num_fem','num_male']].sum()\n",
    "num_Donne_Uomini"
   ]
  },
  {
   "cell_type": "markdown",
   "metadata": {},
   "source": [
    "### 6. Find the universities where the ratio between female and male is below the average ratio (computed over all universities)"
   ]
  },
  {
   "cell_type": "markdown",
   "metadata": {},
   "source": [
    "*Calcoliamo totale di maschi e femmine in tutto il dataframe*"
   ]
  },
  {
   "cell_type": "code",
   "execution_count": null,
   "metadata": {},
   "outputs": [],
   "source": [
    "total_females = most_recent_t['num_fem'].sum()\n",
    "total_males= most_recent_t['num_male'].sum()"
   ]
  },
  {
   "cell_type": "markdown",
   "metadata": {},
   "source": [
    "*calcolo dell' average ratio*"
   ]
  },
  {
   "cell_type": "code",
   "execution_count": null,
   "metadata": {},
   "outputs": [],
   "source": [
    "avg_ratio= (total_females/total_males)  \n",
    "avg_ratio"
   ]
  },
  {
   "cell_type": "markdown",
   "metadata": {},
   "source": [
    "*Abbiamo calcolato il rapporto per ogni riga del dataframe*"
   ]
  },
  {
   "cell_type": "code",
   "execution_count": null,
   "metadata": {},
   "outputs": [],
   "source": [
    "most_recent_t['ratio']=most_recent_t['num_fem']/most_recent_t['num_male'] #rapporto per ogni riga\n",
    "most_recent_t.head()"
   ]
  },
  {
   "cell_type": "markdown",
   "metadata": {},
   "source": [
    "*Confrontiamo e prendiamo quelli con rapporto minore della media*"
   ]
  },
  {
   "cell_type": "code",
   "execution_count": null,
   "metadata": {},
   "outputs": [],
   "source": [
    "punto6 = most_recent_t.loc[most_recent_t['ratio'] < avg_ratio]\n",
    "punto6.head()"
   ]
  },
  {
   "cell_type": "markdown",
   "metadata": {},
   "source": [
    "*Estraiamo solo i nomi delle università che soddisfano il punto 6*"
   ]
  },
  {
   "cell_type": "code",
   "execution_count": null,
   "metadata": {},
   "outputs": [],
   "source": [
    "punto6[['university_name','ratio']]"
   ]
  },
  {
   "cell_type": "markdown",
   "metadata": {},
   "source": [
    "### 7. For each country, compute the fraction of the students in the country that are in one of the universities computed in the previous point (that is, the denominator of the ratio is the total number of students over all universities in the country)."
   ]
  },
  {
   "cell_type": "markdown",
   "metadata": {},
   "source": [
    "*Estraiamo dal dataframe precedente le colonne di interesse*"
   ]
  },
  {
   "cell_type": "code",
   "execution_count": null,
   "metadata": {},
   "outputs": [],
   "source": [
    "punto7 = punto6[['university_name','country','num_students', 'female_male_ratio', 'year', 'male','female', 'num_male', 'num_fem', 'ratio']]\n",
    "punto7"
   ]
  },
  {
   "cell_type": "markdown",
   "metadata": {},
   "source": [
    "*Raggruppiamo per nazione e facciamo la somma del numero di studenti in quella determinata nazione, infine estraiamo anche 'country' in modo da creare un dataframe*"
   ]
  },
  {
   "cell_type": "code",
   "execution_count": null,
   "metadata": {},
   "outputs": [],
   "source": [
    "number_students_per_country = punto7.groupby('country')[['num_students', 'country']].sum()\n",
    "number_students_per_country.reset_index(inplace=True)\n",
    "number_students_per_country"
   ]
  },
  {
   "cell_type": "markdown",
   "metadata": {},
   "source": [
    "*Numero di studenti per università*"
   ]
  },
  {
   "cell_type": "code",
   "execution_count": null,
   "metadata": {},
   "outputs": [],
   "source": [
    "punto_7_numerat = punto7[['university_name', 'country', 'num_students']] \n",
    "punto_7_numerat"
   ]
  },
  {
   "cell_type": "code",
   "execution_count": null,
   "metadata": {},
   "outputs": [],
   "source": [
    "tab_merge = pd.merge(punto_7_numerat, number_students_per_country, on = 'country', how='left', suffixes= ('_university','_country')) \n",
    "tab_merge.head()"
   ]
  },
  {
   "cell_type": "markdown",
   "metadata": {},
   "source": [
    "*Calcoliamo la frazione*"
   ]
  },
  {
   "cell_type": "code",
   "execution_count": null,
   "metadata": {},
   "outputs": [],
   "source": [
    "tab_merge['fraction_of_students'] = tab_merge['num_students_university']/tab_merge['num_students_country']\n",
    "tab_merge"
   ]
  },
  {
   "cell_type": "markdown",
   "metadata": {},
   "source": [
    "### 8. Read the file educational_attainment_supplementary_data.csv, discarding any row with missing country_name or series_name"
   ]
  },
  {
   "cell_type": "code",
   "execution_count": null,
   "metadata": {},
   "outputs": [],
   "source": [
    "educational_attainment = pd.read_csv(\"dataframe/educational_attainment_supplementary_data.csv\")\n",
    "educational_attainment.head()"
   ]
  },
  {
   "cell_type": "markdown",
   "metadata": {},
   "source": [
    "*Abbiamo creato un nuovo dataframe tenendo solo le righe per cui country_name e series_name non risultano nulli*"
   ]
  },
  {
   "cell_type": "code",
   "execution_count": null,
   "metadata": {},
   "outputs": [],
   "source": [
    "educ = educational_attainment[(educational_attainment['country_name'].notnull()) & (educational_attainment['series_name'].notnull())]\n",
    "educ.head()"
   ]
  },
  {
   "cell_type": "markdown",
   "metadata": {},
   "source": [
    "### 9. From attainment build a dataframe with the same data, but with 4 columns: country_name, series_name, year, value"
   ]
  },
  {
   "cell_type": "code",
   "execution_count": null,
   "metadata": {},
   "outputs": [],
   "source": [
    "pd.melt?"
   ]
  },
  {
   "cell_type": "code",
   "execution_count": null,
   "metadata": {},
   "outputs": [],
   "source": [
    "educ.columns[2:]"
   ]
  },
  {
   "cell_type": "code",
   "execution_count": null,
   "metadata": {},
   "outputs": [],
   "source": [
    "pd.melt(educ, id_vars=['country_name','series_name'], value_vars=['1985', '1986', '1987', '1990', '1991', '1992', '1993', '1995', '1996',\n",
    "       '1997', '1998', '1999', '2000', '2001', '2002', '2003', '2004', '2005',\n",
    "       '2006', '2007', '2008', '2009', '2010', '2011', '2012', '2013', '2015'])"
   ]
  },
  {
   "cell_type": "markdown",
   "metadata": {},
   "source": [
    "### 10. For each university, find the number of rankings in which they appear (it suffices to appear in one year for each ranking)."
   ]
  },
  {
   "cell_type": "markdown",
   "metadata": {},
   "source": [
    "*Facciamo il merge di times cwur e shanghai e prendiamo solo le colonne di interesse*"
   ]
  },
  {
   "cell_type": "code",
   "execution_count": null,
   "metadata": {},
   "outputs": [],
   "source": [
    "tabella_merge=pd.merge(timesData,cwurData,how='left', left_on='university_name', right_on='institution')\n",
    "tabella_merge=pd.merge(tabella_merge,shanghaiData,how='left', on='university_name')\n",
    "tabella_merge=tabella_merge.rename(columns={'world_rank':'world_rank_times','world_rank_x':'world_rank_cwur','world_rank_y':'world_rank_shanghai' })\n",
    "tabella_merge=tabella_merge[['university_name','world_rank_times','world_rank_cwur','world_rank_shanghai']]\n",
    "#rinominiamo\n",
    "tabella_merge['world_rank_shanghai']=tabella_merge['world_rank_shanghai'].replace(np.nan, 'Dato mancante')\n",
    "tabella_merge['world_rank_times']=tabella_merge['world_rank_times'].replace(np.nan, 'Dato mancante')\n",
    "tabella_merge['world_rank_cwur']=tabella_merge['world_rank_cwur'].replace(np.nan, 'Dato mancante')"
   ]
  },
  {
   "cell_type": "code",
   "execution_count": null,
   "metadata": {},
   "outputs": [],
   "source": [
    "#definizione della funzione counter che mi conta quante volte il dato non è mancante\n",
    "def counter(col1,col2,col3):\n",
    "    count=0\n",
    "    if (col1!='Dato mancante'):\n",
    "        count+=1\n",
    "    if (col2!='Dato mancante'):\n",
    "        count+=1\n",
    "    if (col3!='Dato mancante'):\n",
    "        count+=1\n",
    "\n",
    "    return count"
   ]
  },
  {
   "cell_type": "code",
   "execution_count": null,
   "metadata": {},
   "outputs": [],
   "source": [
    "#applicchiamo counter\n",
    "tabella_merge['counter']=tabella_merge.apply(lambda x:counter(x.world_rank_times,x.world_rank_cwur,x.world_rank_shanghai), axis=1)\n",
    "tabella_merge.drop_duplicates(subset=['university_name','counter'],keep='first')"
   ]
  },
  {
   "cell_type": "markdown",
   "metadata": {},
   "source": [
    "### 11. In the times ranking, compute the number of times each university appears"
   ]
  },
  {
   "cell_type": "markdown",
   "metadata": {},
   "source": [
    "*Raggruppiamo per university_name, estraiamo world_rank e contiamo*"
   ]
  },
  {
   "cell_type": "code",
   "execution_count": null,
   "metadata": {},
   "outputs": [],
   "source": [
    "punto11 = timesData.groupby('university_name', as_index = False)['world_rank'].count()\n",
    "punto11"
   ]
  },
  {
   "cell_type": "markdown",
   "metadata": {},
   "source": [
    "### 12. Find the universities that appear at most twice in the times ranking."
   ]
  },
  {
   "cell_type": "code",
   "execution_count": null,
   "metadata": {},
   "outputs": [],
   "source": [
    "punto12 = punto11[punto11['world_rank']<= 2]\n",
    "punto12"
   ]
  },
  {
   "cell_type": "markdown",
   "metadata": {},
   "source": [
    "### 13. The universities that, in any year, have the same position in all three rankings (they must have the same position in a year)."
   ]
  },
  {
   "cell_type": "markdown",
   "metadata": {},
   "source": [
    "*Facciamo il merge dei 3 dataframes*"
   ]
  },
  {
   "cell_type": "code",
   "execution_count": null,
   "metadata": {},
   "outputs": [],
   "source": [
    "punto13 = pd.merge(timesData, cwurData, left_on=['university_name','year'], right_on = ['institution','year'])\n",
    "punto13= pd.merge(punto13, shanghaiData, on= ['university_name', 'year'])\n",
    "punto13= punto13.rename(columns= {'world_rank_x':'world_rank_times','world_rank_y': 'world_rank_cwur','world_rank' : 'world_rank_shanghai'})\n"
   ]
  },
  {
   "cell_type": "markdown",
   "metadata": {},
   "source": [
    "*Estraiamo le colonne di interesse*"
   ]
  },
  {
   "cell_type": "code",
   "execution_count": null,
   "metadata": {},
   "outputs": [],
   "source": [
    "punto13= punto13[['university_name','year','world_rank_times','world_rank_cwur','world_rank_shanghai']]\n",
    "punto13.head()"
   ]
  },
  {
   "cell_type": "code",
   "execution_count": null,
   "metadata": {},
   "outputs": [],
   "source": [
    "punto13.info()"
   ]
  },
  {
   "cell_type": "markdown",
   "metadata": {},
   "source": [
    "*Prendiamo solo le università per cui il world rank in Times è uguale al world rank in Shanghai*"
   ]
  },
  {
   "cell_type": "code",
   "execution_count": null,
   "metadata": {},
   "outputs": [],
   "source": [
    "punto13 = punto13.loc[(punto13['world_rank_times'] == punto13['world_rank_shanghai'])]\n",
    "punto13"
   ]
  },
  {
   "cell_type": "markdown",
   "metadata": {},
   "source": [
    "*Controlliamo se world rank in Times è uguale a wolrd rank in Cwur*"
   ]
  },
  {
   "cell_type": "code",
   "execution_count": null,
   "metadata": {},
   "outputs": [],
   "source": [
    "punto13['world_rank_times']=punto13['world_rank_times'].astype(float)\n",
    "punto13['world_rank_shanghai']=punto13['world_rank_shanghai'].astype(float)\n",
    "punto13.loc[(punto13['world_rank_times'] == punto13['world_rank_cwur'])]"
   ]
  }
 ],
 "metadata": {
  "kernelspec": {
   "display_name": "Python 3",
   "language": "python",
   "name": "python3"
  },
  "language_info": {
   "codemirror_mode": {
    "name": "ipython",
    "version": 3
   },
   "file_extension": ".py",
   "mimetype": "text/x-python",
   "name": "python",
   "nbconvert_exporter": "python",
   "pygments_lexer": "ipython3",
   "version": "3.8.3"
  }
 },
 "nbformat": 4,
 "nbformat_minor": 4
}
