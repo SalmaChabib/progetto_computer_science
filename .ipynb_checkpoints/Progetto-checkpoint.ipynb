{
 "cells": [
  {
   "cell_type": "code",
   "execution_count": null,
   "metadata": {},
   "outputs": [],
   "source": [
    "import pandas as pd"
   ]
  },
  {
   "cell_type": "code",
   "execution_count": null,
   "metadata": {},
   "outputs": [],
   "source": [
    "import re"
   ]
  },
  {
   "cell_type": "code",
   "execution_count": null,
   "metadata": {},
   "outputs": [],
   "source": [
    "import numpy as np"
   ]
  },
  {
   "cell_type": "code",
   "execution_count": null,
   "metadata": {},
   "outputs": [],
   "source": [
    "timesData = pd.read_csv(\"dataframe/timesData.csv\")\n",
    "timesData.head()"
   ]
  },
  {
   "cell_type": "code",
   "execution_count": null,
   "metadata": {},
   "outputs": [],
   "source": [
    "timesData.info()"
   ]
  },
  {
   "cell_type": "code",
   "execution_count": null,
   "metadata": {},
   "outputs": [],
   "source": [
    "timesData['income']=pd.to_numeric(timesData['income'], errors='coerce')"
   ]
  },
  {
   "cell_type": "code",
   "execution_count": null,
   "metadata": {},
   "outputs": [],
   "source": [
    "shanghaiData = pd.read_csv(\"dataframe/shanghaiData.csv\")\n",
    "shanghaiData.head()"
   ]
  },
  {
   "cell_type": "code",
   "execution_count": null,
   "metadata": {},
   "outputs": [],
   "source": [
    "school_and_country = pd.read_csv(\"dataframe/school_and_country_table.csv\")\n",
    "school_and_country.head()"
   ]
  },
  {
   "cell_type": "code",
   "execution_count": null,
   "metadata": {},
   "outputs": [],
   "source": [
    "cwurData = pd.read_csv(\"dataframe/cwurData.csv\")\n",
    "cwurData.head()"
   ]
  },
  {
   "cell_type": "code",
   "execution_count": null,
   "metadata": {},
   "outputs": [],
   "source": [
    "educational_attainment = pd.read_csv(\"dataframe/educational_attainment_supplementary_data.csv\")\n",
    "educational_attainment.head()"
   ]
  },
  {
   "cell_type": "code",
   "execution_count": null,
   "metadata": {
    "scrolled": true
   },
   "outputs": [],
   "source": [
    "education_expenditure = pd.read_csv(\"dataframe/education_expenditure_supplementary_data.csv\",engine='python')\n",
    "education_expenditure.head()"
   ]
  },
  {
   "cell_type": "markdown",
   "metadata": {},
   "source": [
    "1. For each university, extract from the times dataset the most recent and the least recent data, obtaining two separate dataframe"
   ]
  },
  {
   "cell_type": "code",
   "execution_count": null,
   "metadata": {
    "scrolled": true
   },
   "outputs": [],
   "source": [
    "most_recent_data=timesData.loc[(timesData.groupby('university_name')['year'].idxmax())]\n",
    "most_recent_data.head()"
   ]
  },
  {
   "cell_type": "code",
   "execution_count": null,
   "metadata": {},
   "outputs": [],
   "source": [
    "least_recent_data=timesData.loc[(timesData.groupby('university_name')['year'].idxmin())]\n",
    "least_recent_data.head()"
   ]
  },
  {
   "cell_type": "markdown",
   "metadata": {},
   "source": [
    "2. For each university, compute the improvement in \"income\" between the least recent and the most recent data points"
   ]
  },
  {
   "cell_type": "code",
   "execution_count": null,
   "metadata": {},
   "outputs": [],
   "source": [
    "punto2=pd.merge(most_recent_data, least_recent_data, on='university_name')\n",
    "punto2.head()"
   ]
  },
  {
   "cell_type": "code",
   "execution_count": null,
   "metadata": {},
   "outputs": [],
   "source": [
    "punto2.columns"
   ]
  },
  {
   "cell_type": "code",
   "execution_count": null,
   "metadata": {},
   "outputs": [],
   "source": [
    "def calcola_perc(riga):\n",
    "    return riga['votes_first_vote']/ risultato[riga['state']] *100"
   ]
  },
  {
   "cell_type": "code",
   "execution_count": null,
   "metadata": {},
   "outputs": [],
   "source": [
    "punto2['income_improvement']=punto2['income_y']-punto2['income_x']\n",
    "punto2.head()"
   ]
  },
  {
   "cell_type": "markdown",
   "metadata": {},
   "source": [
    "3. Find the university with the largest increase computed in the previous point"
   ]
  },
  {
   "cell_type": "code",
   "execution_count": null,
   "metadata": {},
   "outputs": [],
   "source": [
    "punto2.loc[punto2['income_improvement']>= punto2['income_improvement'].max()]['university_name'] #possiamo anche togliere l'ultima quadra\n"
   ]
  },
  {
   "cell_type": "markdown",
   "metadata": {},
   "source": [
    "4. For each ranking, consider only the most recent data point. For each university, compute the maximum difference between the rankings (e.g. for Aarhus University the value is 122-73=49). Notice that some rankings are expressed as a range"
   ]
  },
  {
   "cell_type": "code",
   "execution_count": null,
   "metadata": {},
   "outputs": [],
   "source": [
    "most_recent_s=shanghaiData.loc[(shanghaiData.groupby('university_name')['year'].idxmax())]\n",
    "most_recent_c=cwurData.loc[(cwurData.groupby('institution')['year'].idxmax())]\n",
    "#most_recent_data"
   ]
  },
  {
   "cell_type": "code",
   "execution_count": null,
   "metadata": {},
   "outputs": [],
   "source": [
    "most_recent_data['world_rank']"
   ]
  },
  {
   "cell_type": "code",
   "execution_count": null,
   "metadata": {},
   "outputs": [],
   "source": [
    "lista = most_recent_data['world_rank']\n",
    "df =pd.DataFrame(lista)\n",
    "df.head()"
   ]
  },
  {
   "cell_type": "code",
   "execution_count": null,
   "metadata": {},
   "outputs": [],
   "source": [
    "df['min_range'] = df['world_rank'].str.extract(r'^\\=?(\\d+)')\n",
    "df['max_range'] = df['world_rank'].str.extract(r'(\\d+$)')\n",
    "df.head()"
   ]
  },
  {
   "cell_type": "code",
   "execution_count": null,
   "metadata": {},
   "outputs": [],
   "source": [
    "df['min_range']=pd.to_numeric(df['min_range'], errors='coerce')\n",
    "df['max_range']=pd.to_numeric(df['max_range'], errors='coerce')\n",
    "df.info()"
   ]
  },
  {
   "cell_type": "code",
   "execution_count": null,
   "metadata": {},
   "outputs": [],
   "source": [
    "most_recent_data['world_rank_t'] = (df['max_range'] + df['min_range'])//2\n",
    "most_recent_data['world_rank_t'].head()"
   ]
  },
  {
   "cell_type": "code",
   "execution_count": null,
   "metadata": {},
   "outputs": [],
   "source": [
    "#rifacciamo per s\n",
    "lista_s = most_recent_s['world_rank']\n",
    "df_s =pd.DataFrame(lista_s)\n",
    "df_s['min_range'] = df_s['world_rank'].str.extract(r'^\\=?(\\d+)')\n",
    "df_s['max_range'] = df_s['world_rank'].str.extract(r'(\\d+$)')\n",
    "df_s['min_range']=pd.to_numeric(df_s['min_range'], errors='coerce')\n",
    "df_s['max_range']=pd.to_numeric(df_s['max_range'], errors='coerce')\n",
    "most_recent_s['world_rank_s'] = (df_s['max_range'] + df_s['min_range'])//2\n",
    "most_recent_s.head()"
   ]
  },
  {
   "cell_type": "code",
   "execution_count": null,
   "metadata": {},
   "outputs": [],
   "source": [
    "most_recent_c.info()"
   ]
  },
  {
   "cell_type": "code",
   "execution_count": null,
   "metadata": {},
   "outputs": [],
   "source": [
    "most_recent = pd.merge(most_recent_data, most_recent_s, on='university_name', how='left' )\n",
    "most_recent"
   ]
  },
  {
   "cell_type": "code",
   "execution_count": null,
   "metadata": {},
   "outputs": [],
   "source": [
    "most_recent1 = pd.merge(most_recent, most_recent_c, left_on= 'university_name', right_on = 'institution', how='left')\n",
    "most_recent1"
   ]
  },
  {
   "cell_type": "code",
   "execution_count": null,
   "metadata": {},
   "outputs": [],
   "source": [
    "most_recent1.columns"
   ]
  },
  {
   "cell_type": "code",
   "execution_count": null,
   "metadata": {},
   "outputs": [],
   "source": [
    "most_recent1['HighScore'] = most_recent1[['world_rank_t','world_rank','world_rank_s']].max(axis = 1)\n",
    "most_recent1['LowScore'] = most_recent1[['world_rank_t','world_rank','world_rank_s']].min(axis = 1)\n",
    "most_recent1['maximum_difference'] = most_recent1['HighScore']-most_recent1['LowScore']\n",
    "most_recent1[['university_name','maximum_difference','HighScore','LowScore','world_rank_t','world_rank','world_rank_s']]"
   ]
  },
  {
   "cell_type": "markdown",
   "metadata": {},
   "source": [
    "5. Consider only the most recent data point of the times dataset. Compute the number of male and female students for each country."
   ]
  },
  {
   "cell_type": "code",
   "execution_count": null,
   "metadata": {},
   "outputs": [],
   "source": [
    "most_recent_data.info()"
   ]
  },
  {
   "cell_type": "code",
   "execution_count": null,
   "metadata": {},
   "outputs": [],
   "source": [
    "most_recent_data['female'] = most_recent_data['female_male_ratio'].str.extract(r'(^\\d+)')\n",
    "most_recent_data['male'] = most_recent_data['female_male_ratio'].str.extract(r'(\\d+$)')\n",
    "most_recent_data.head()"
   ]
  },
  {
   "cell_type": "code",
   "execution_count": null,
   "metadata": {},
   "outputs": [],
   "source": [
    "most_recent_data['male']=pd.to_numeric(most_recent_data['male'], errors='coerce')\n",
    "most_recent_data['female']=pd.to_numeric(most_recent_data['female'], errors='coerce')"
   ]
  },
  {
   "cell_type": "code",
   "execution_count": null,
   "metadata": {},
   "outputs": [],
   "source": [
    "most_recent_data.info()"
   ]
  },
  {
   "cell_type": "code",
   "execution_count": null,
   "metadata": {},
   "outputs": [],
   "source": [
    "most_recent_data['num_students'] = most_recent_data['num_students'].str.replace(',','')\n",
    "most_recent_data.head()"
   ]
  },
  {
   "cell_type": "code",
   "execution_count": null,
   "metadata": {},
   "outputs": [],
   "source": [
    "most_recent_data['num_students']=pd.to_numeric(most_recent_data['num_students'], errors='coerce')\n",
    "most_recent_data.head()"
   ]
  },
  {
   "cell_type": "code",
   "execution_count": null,
   "metadata": {},
   "outputs": [],
   "source": [
    "most_recent_data['num_male']= most_recent_data['male'] * most_recent_data['num_students'] // 100\n",
    "most_recent_data.head()"
   ]
  },
  {
   "cell_type": "code",
   "execution_count": null,
   "metadata": {},
   "outputs": [],
   "source": [
    "most_recent_data['num_fem']= most_recent_data['female'] * most_recent_data['num_students'] // 100\n",
    "most_recent_data.head()"
   ]
  },
  {
   "cell_type": "markdown",
   "metadata": {},
   "source": [
    "6. Find the universities where the ratio between female and male is below the average ratio (computed over all universities)"
   ]
  },
  {
   "cell_type": "code",
   "execution_count": null,
   "metadata": {},
   "outputs": [],
   "source": [
    "most_recent_data['rapporto'] = most_recent_data['num_fem'] / most_recent_data['num_male']\n",
    "media = most_recent_data['rapporto'].notnull().mean()"
   ]
  },
  {
   "cell_type": "code",
   "execution_count": null,
   "metadata": {},
   "outputs": [],
   "source": [
    "punto6 = most_recent_data.loc[most_recent_data['rapporto'] <= media]\n",
    "punto6.head()"
   ]
  },
  {
   "cell_type": "code",
   "execution_count": null,
   "metadata": {},
   "outputs": [],
   "source": [
    "punto6['university_name']"
   ]
  },
  {
   "cell_type": "markdown",
   "metadata": {},
   "source": [
    "7. For each country, compute the fraction of the students in the country that are in one of the universities computed in the previous point (that is, the denominator of the ratio is the total number of students over all universities in the country)."
   ]
  },
  {
   "cell_type": "code",
   "execution_count": null,
   "metadata": {},
   "outputs": [],
   "source": [
    "#denominatore\n",
    "deno = most_recent_data.groupby('country', as_index = True)['num_students'].sum()\n",
    "#numeratore\n",
    "deno"
   ]
  },
  {
   "cell_type": "code",
   "execution_count": null,
   "metadata": {},
   "outputs": [],
   "source": [
    "num=punto6.groupby('country')['num_students'].sum()"
   ]
  },
  {
   "cell_type": "code",
   "execution_count": null,
   "metadata": {},
   "outputs": [],
   "source": [
    "num.dtype"
   ]
  },
  {
   "cell_type": "code",
   "execution_count": null,
   "metadata": {},
   "outputs": [],
   "source": [
    "deno.dtype"
   ]
  },
  {
   "cell_type": "code",
   "execution_count": null,
   "metadata": {},
   "outputs": [],
   "source": [
    "fraction=num/deno\n",
    "fraction"
   ]
  },
  {
   "cell_type": "code",
   "execution_count": null,
   "metadata": {},
   "outputs": [],
   "source": [
    "#most_recent_data.loc[most_recent_data.groupby('country').sum()['num_students']]"
   ]
  },
  {
   "cell_type": "markdown",
   "metadata": {},
   "source": [
    "8. Read the file educational_attainment_supplementary_data.csv, discarding any row with missing country_name or series_name"
   ]
  },
  {
   "cell_type": "code",
   "execution_count": null,
   "metadata": {},
   "outputs": [],
   "source": [
    "educational_attainment = pd.read_csv(\"dataframe/educational_attainment_supplementary_data.csv\")\n",
    "educational_attainment.head()"
   ]
  },
  {
   "cell_type": "code",
   "execution_count": null,
   "metadata": {},
   "outputs": [],
   "source": [
    "educ = educational_attainment[(educational_attainment['country_name'].notnull()) | (educational_attainment['series_name'].notnull())]\n",
    "educ.head()"
   ]
  },
  {
   "cell_type": "markdown",
   "metadata": {},
   "source": [
    "9. From attainment build a dataframe with the same data, but with 4 columns: country_name, series_name, year, value"
   ]
  },
  {
   "cell_type": "code",
   "execution_count": null,
   "metadata": {},
   "outputs": [],
   "source": [
    "ed_pulito= educ.dropna(axis='columns', how='all')\n",
    "ed_pulito.head()"
   ]
  },
  {
   "cell_type": "code",
   "execution_count": null,
   "metadata": {},
   "outputs": [],
   "source": [
    "pd.melt?"
   ]
  },
  {
   "cell_type": "code",
   "execution_count": null,
   "metadata": {},
   "outputs": [],
   "source": [
    "ed_pulito.columns[2:]"
   ]
  },
  {
   "cell_type": "code",
   "execution_count": null,
   "metadata": {},
   "outputs": [],
   "source": [
    "pd.melt(ed_pulito, id_vars=['country_name','series_name'], value_vars=['1985', '1986', '1987', '1990', '1991', '1992', '1993', '1995', '1996',\n",
    "       '1998', '1999', '2000', '2001', '2002', '2003', '2004', '2005', '2006',\n",
    "       '2007', '2008', '2009', '2010', '2011', '2012', '2013'])\n"
   ]
  },
  {
   "cell_type": "markdown",
   "metadata": {},
   "source": [
    "10. For each university, find the number of rankings in which they appear (it suffices to appear in one year for each ranking)."
   ]
  },
  {
   "cell_type": "code",
   "execution_count": 171,
   "metadata": {},
   "outputs": [],
   "source": [
    "tabella_merge=pd.merge(timesData,cwurData,how='left', left_on='university_name', right_on='institution')\n",
    "tabella_merge=pd.merge(tabella_merge,shanghaiData,how='left', on='university_name')\n",
    "tabella_merge=tabella_merge.rename(columns={'world_rank':'times','world_rank_x':'cwur','world_rank_y':'shanghai' })\n",
    "tabella_merge=tabella_merge[['university_name','times','cwur','shanghai']]\n",
    "tabella_merge['shanghai']=tabella_merge['shanghai'].replace(np.nan, 'Dato mancante')\n",
    "tabella_merge['times']=tabella_merge['times'].replace(np.nan, 'Dato mancante')\n",
    "tabella_merge['cwur']=tabella_merge['cwur'].replace(np.nan, 'Dato mancante')"
   ]
  },
  {
   "cell_type": "code",
   "execution_count": 172,
   "metadata": {},
   "outputs": [],
   "source": [
    "def counter(col1,col2,col3):\n",
    "    count=0\n",
    "    if (col1!='Dato mancante'):\n",
    "        count+=1\n",
    "    if (col2!='Dato mancante'):\n",
    "        count+=1\n",
    "    if (col3!='Dato mancante'):\n",
    "        count+=1\n",
    "\n",
    "    return count\n"
   ]
  },
  {
   "cell_type": "code",
   "execution_count": 173,
   "metadata": {},
   "outputs": [
    {
     "data": {
      "text/html": [
       "<div>\n",
       "<style scoped>\n",
       "    .dataframe tbody tr th:only-of-type {\n",
       "        vertical-align: middle;\n",
       "    }\n",
       "\n",
       "    .dataframe tbody tr th {\n",
       "        vertical-align: top;\n",
       "    }\n",
       "\n",
       "    .dataframe thead th {\n",
       "        text-align: right;\n",
       "    }\n",
       "</style>\n",
       "<table border=\"1\" class=\"dataframe\">\n",
       "  <thead>\n",
       "    <tr style=\"text-align: right;\">\n",
       "      <th></th>\n",
       "      <th>university_name</th>\n",
       "      <th>times</th>\n",
       "      <th>cwur</th>\n",
       "      <th>shanghai</th>\n",
       "      <th>counter</th>\n",
       "    </tr>\n",
       "  </thead>\n",
       "  <tbody>\n",
       "    <tr>\n",
       "      <th>35511</th>\n",
       "      <td>Texas Tech University</td>\n",
       "      <td>301-400</td>\n",
       "      <td>601-800</td>\n",
       "      <td>Dato mancante</td>\n",
       "      <td>2</td>\n",
       "    </tr>\n",
       "    <tr>\n",
       "      <th>35512</th>\n",
       "      <td>Texas Tech University</td>\n",
       "      <td>305-402</td>\n",
       "      <td>601-800</td>\n",
       "      <td>Dato mancante</td>\n",
       "      <td>2</td>\n",
       "    </tr>\n",
       "    <tr>\n",
       "      <th>35513</th>\n",
       "      <td>Texas Tech University</td>\n",
       "      <td>303-401</td>\n",
       "      <td>601-800</td>\n",
       "      <td>Dato mancante</td>\n",
       "      <td>2</td>\n",
       "    </tr>\n",
       "    <tr>\n",
       "      <th>35514</th>\n",
       "      <td>Texas Tech University</td>\n",
       "      <td>303-401</td>\n",
       "      <td>601-800</td>\n",
       "      <td>Dato mancante</td>\n",
       "      <td>2</td>\n",
       "    </tr>\n",
       "    <tr>\n",
       "      <th>35515</th>\n",
       "      <td>Texas Tech University</td>\n",
       "      <td>301-400</td>\n",
       "      <td>601-800</td>\n",
       "      <td>Dato mancante</td>\n",
       "      <td>2</td>\n",
       "    </tr>\n",
       "    <tr>\n",
       "      <th>35516</th>\n",
       "      <td>Texas Tech University</td>\n",
       "      <td>401-500</td>\n",
       "      <td>601-800</td>\n",
       "      <td>Dato mancante</td>\n",
       "      <td>2</td>\n",
       "    </tr>\n",
       "    <tr>\n",
       "      <th>35517</th>\n",
       "      <td>Texas Tech University</td>\n",
       "      <td>401-500</td>\n",
       "      <td>601-800</td>\n",
       "      <td>Dato mancante</td>\n",
       "      <td>2</td>\n",
       "    </tr>\n",
       "    <tr>\n",
       "      <th>35518</th>\n",
       "      <td>Tokai University</td>\n",
       "      <td>Dato mancante</td>\n",
       "      <td>601-800</td>\n",
       "      <td>589</td>\n",
       "      <td>2</td>\n",
       "    </tr>\n",
       "    <tr>\n",
       "      <th>35519</th>\n",
       "      <td>Tokai University</td>\n",
       "      <td>Dato mancante</td>\n",
       "      <td>601-800</td>\n",
       "      <td>622</td>\n",
       "      <td>2</td>\n",
       "    </tr>\n",
       "    <tr>\n",
       "      <th>35520</th>\n",
       "      <td>Tokushima University</td>\n",
       "      <td>Dato mancante</td>\n",
       "      <td>601-800</td>\n",
       "      <td>Dato mancante</td>\n",
       "      <td>1</td>\n",
       "    </tr>\n",
       "    <tr>\n",
       "      <th>35521</th>\n",
       "      <td>Tokyo University of Marine Science and Technology</td>\n",
       "      <td>Dato mancante</td>\n",
       "      <td>601-800</td>\n",
       "      <td>Dato mancante</td>\n",
       "      <td>1</td>\n",
       "    </tr>\n",
       "    <tr>\n",
       "      <th>35522</th>\n",
       "      <td>Tokyo University of Science</td>\n",
       "      <td>401-500</td>\n",
       "      <td>601-800</td>\n",
       "      <td>413</td>\n",
       "      <td>3</td>\n",
       "    </tr>\n",
       "    <tr>\n",
       "      <th>35523</th>\n",
       "      <td>Tokyo University of Science</td>\n",
       "      <td>401-500</td>\n",
       "      <td>601-800</td>\n",
       "      <td>481</td>\n",
       "      <td>3</td>\n",
       "    </tr>\n",
       "    <tr>\n",
       "      <th>35524</th>\n",
       "      <td>Tomsk State University</td>\n",
       "      <td>Dato mancante</td>\n",
       "      <td>601-800</td>\n",
       "      <td>Dato mancante</td>\n",
       "      <td>1</td>\n",
       "    </tr>\n",
       "    <tr>\n",
       "      <th>35525</th>\n",
       "      <td>Tottori University</td>\n",
       "      <td>Dato mancante</td>\n",
       "      <td>601-800</td>\n",
       "      <td>584</td>\n",
       "      <td>2</td>\n",
       "    </tr>\n",
       "    <tr>\n",
       "      <th>35526</th>\n",
       "      <td>Tottori University</td>\n",
       "      <td>Dato mancante</td>\n",
       "      <td>601-800</td>\n",
       "      <td>736</td>\n",
       "      <td>2</td>\n",
       "    </tr>\n",
       "    <tr>\n",
       "      <th>35527</th>\n",
       "      <td>Toyohashi University of Technology</td>\n",
       "      <td>Dato mancante</td>\n",
       "      <td>601-800</td>\n",
       "      <td>Dato mancante</td>\n",
       "      <td>1</td>\n",
       "    </tr>\n",
       "    <tr>\n",
       "      <th>35528</th>\n",
       "      <td>Universiti Kebangsaan Malaysia</td>\n",
       "      <td>Dato mancante</td>\n",
       "      <td>601-800</td>\n",
       "      <td>Dato mancante</td>\n",
       "      <td>1</td>\n",
       "    </tr>\n",
       "    <tr>\n",
       "      <th>35529</th>\n",
       "      <td>Universiti Putra Malaysia</td>\n",
       "      <td>Dato mancante</td>\n",
       "      <td>601-800</td>\n",
       "      <td>Dato mancante</td>\n",
       "      <td>1</td>\n",
       "    </tr>\n",
       "    <tr>\n",
       "      <th>35530</th>\n",
       "      <td>Universiti Sains Malaysia</td>\n",
       "      <td>Dato mancante</td>\n",
       "      <td>601-800</td>\n",
       "      <td>Dato mancante</td>\n",
       "      <td>1</td>\n",
       "    </tr>\n",
       "    <tr>\n",
       "      <th>35531</th>\n",
       "      <td>Universiti Teknologi MARA</td>\n",
       "      <td>Dato mancante</td>\n",
       "      <td>601-800</td>\n",
       "      <td>Dato mancante</td>\n",
       "      <td>1</td>\n",
       "    </tr>\n",
       "    <tr>\n",
       "      <th>35532</th>\n",
       "      <td>Ural Federal University</td>\n",
       "      <td>Dato mancante</td>\n",
       "      <td>601-800</td>\n",
       "      <td>Dato mancante</td>\n",
       "      <td>1</td>\n",
       "    </tr>\n",
       "    <tr>\n",
       "      <th>35533</th>\n",
       "      <td>V.N. Karazin Kharkiv National University</td>\n",
       "      <td>Dato mancante</td>\n",
       "      <td>601-800</td>\n",
       "      <td>Dato mancante</td>\n",
       "      <td>1</td>\n",
       "    </tr>\n",
       "    <tr>\n",
       "      <th>35534</th>\n",
       "      <td>University of Vigo</td>\n",
       "      <td>401-500</td>\n",
       "      <td>601-800</td>\n",
       "      <td>692</td>\n",
       "      <td>3</td>\n",
       "    </tr>\n",
       "    <tr>\n",
       "      <th>35535</th>\n",
       "      <td>University of Vigo</td>\n",
       "      <td>401-500</td>\n",
       "      <td>601-800</td>\n",
       "      <td>686</td>\n",
       "      <td>3</td>\n",
       "    </tr>\n",
       "    <tr>\n",
       "      <th>35536</th>\n",
       "      <td>Vilnius University</td>\n",
       "      <td>Dato mancante</td>\n",
       "      <td>601-800</td>\n",
       "      <td>838</td>\n",
       "      <td>2</td>\n",
       "    </tr>\n",
       "    <tr>\n",
       "      <th>35537</th>\n",
       "      <td>Vilnius University</td>\n",
       "      <td>Dato mancante</td>\n",
       "      <td>601-800</td>\n",
       "      <td>791</td>\n",
       "      <td>2</td>\n",
       "    </tr>\n",
       "    <tr>\n",
       "      <th>35538</th>\n",
       "      <td>Warsaw University of Technology</td>\n",
       "      <td>Dato mancante</td>\n",
       "      <td>601-800</td>\n",
       "      <td>688</td>\n",
       "      <td>2</td>\n",
       "    </tr>\n",
       "    <tr>\n",
       "      <th>35539</th>\n",
       "      <td>Warsaw University of Technology</td>\n",
       "      <td>Dato mancante</td>\n",
       "      <td>601-800</td>\n",
       "      <td>646</td>\n",
       "      <td>2</td>\n",
       "    </tr>\n",
       "    <tr>\n",
       "      <th>35540</th>\n",
       "      <td>Waseda University</td>\n",
       "      <td>301-400</td>\n",
       "      <td>601-800</td>\n",
       "      <td>40</td>\n",
       "      <td>3</td>\n",
       "    </tr>\n",
       "    <tr>\n",
       "      <th>35541</th>\n",
       "      <td>Waseda University</td>\n",
       "      <td>301-400</td>\n",
       "      <td>601-800</td>\n",
       "      <td>40</td>\n",
       "      <td>3</td>\n",
       "    </tr>\n",
       "    <tr>\n",
       "      <th>35542</th>\n",
       "      <td>Waseda University</td>\n",
       "      <td>305-402</td>\n",
       "      <td>601-800</td>\n",
       "      <td>40</td>\n",
       "      <td>3</td>\n",
       "    </tr>\n",
       "    <tr>\n",
       "      <th>35543</th>\n",
       "      <td>Waseda University</td>\n",
       "      <td>303-401</td>\n",
       "      <td>601-800</td>\n",
       "      <td>40</td>\n",
       "      <td>3</td>\n",
       "    </tr>\n",
       "    <tr>\n",
       "      <th>35544</th>\n",
       "      <td>Waseda University</td>\n",
       "      <td>303-401</td>\n",
       "      <td>601-800</td>\n",
       "      <td>40</td>\n",
       "      <td>3</td>\n",
       "    </tr>\n",
       "    <tr>\n",
       "      <th>35545</th>\n",
       "      <td>Waseda University</td>\n",
       "      <td>301-400</td>\n",
       "      <td>601-800</td>\n",
       "      <td>40</td>\n",
       "      <td>3</td>\n",
       "    </tr>\n",
       "    <tr>\n",
       "      <th>35546</th>\n",
       "      <td>Waseda University</td>\n",
       "      <td>301-400</td>\n",
       "      <td>601-800</td>\n",
       "      <td>40</td>\n",
       "      <td>3</td>\n",
       "    </tr>\n",
       "    <tr>\n",
       "      <th>35547</th>\n",
       "      <td>Waseda University</td>\n",
       "      <td>401-500</td>\n",
       "      <td>601-800</td>\n",
       "      <td>40</td>\n",
       "      <td>3</td>\n",
       "    </tr>\n",
       "    <tr>\n",
       "      <th>35548</th>\n",
       "      <td>Waseda University</td>\n",
       "      <td>301-400</td>\n",
       "      <td>601-800</td>\n",
       "      <td>38</td>\n",
       "      <td>3</td>\n",
       "    </tr>\n",
       "    <tr>\n",
       "      <th>35549</th>\n",
       "      <td>Waseda University</td>\n",
       "      <td>301-400</td>\n",
       "      <td>601-800</td>\n",
       "      <td>38</td>\n",
       "      <td>3</td>\n",
       "    </tr>\n",
       "    <tr>\n",
       "      <th>35550</th>\n",
       "      <td>Waseda University</td>\n",
       "      <td>305-402</td>\n",
       "      <td>601-800</td>\n",
       "      <td>38</td>\n",
       "      <td>3</td>\n",
       "    </tr>\n",
       "    <tr>\n",
       "      <th>35551</th>\n",
       "      <td>Waseda University</td>\n",
       "      <td>303-401</td>\n",
       "      <td>601-800</td>\n",
       "      <td>38</td>\n",
       "      <td>3</td>\n",
       "    </tr>\n",
       "    <tr>\n",
       "      <th>35552</th>\n",
       "      <td>Waseda University</td>\n",
       "      <td>303-401</td>\n",
       "      <td>601-800</td>\n",
       "      <td>38</td>\n",
       "      <td>3</td>\n",
       "    </tr>\n",
       "    <tr>\n",
       "      <th>35553</th>\n",
       "      <td>Waseda University</td>\n",
       "      <td>301-400</td>\n",
       "      <td>601-800</td>\n",
       "      <td>38</td>\n",
       "      <td>3</td>\n",
       "    </tr>\n",
       "    <tr>\n",
       "      <th>35554</th>\n",
       "      <td>Waseda University</td>\n",
       "      <td>301-400</td>\n",
       "      <td>601-800</td>\n",
       "      <td>38</td>\n",
       "      <td>3</td>\n",
       "    </tr>\n",
       "    <tr>\n",
       "      <th>35555</th>\n",
       "      <td>Waseda University</td>\n",
       "      <td>401-500</td>\n",
       "      <td>601-800</td>\n",
       "      <td>38</td>\n",
       "      <td>3</td>\n",
       "    </tr>\n",
       "    <tr>\n",
       "      <th>35556</th>\n",
       "      <td>University of West Bohemia</td>\n",
       "      <td>Dato mancante</td>\n",
       "      <td>601-800</td>\n",
       "      <td>Dato mancante</td>\n",
       "      <td>1</td>\n",
       "    </tr>\n",
       "    <tr>\n",
       "      <th>35557</th>\n",
       "      <td>University of the West of England</td>\n",
       "      <td>Dato mancante</td>\n",
       "      <td>601-800</td>\n",
       "      <td>Dato mancante</td>\n",
       "      <td>1</td>\n",
       "    </tr>\n",
       "    <tr>\n",
       "      <th>35558</th>\n",
       "      <td>West University of Timişoara</td>\n",
       "      <td>Dato mancante</td>\n",
       "      <td>601-800</td>\n",
       "      <td>Dato mancante</td>\n",
       "      <td>1</td>\n",
       "    </tr>\n",
       "    <tr>\n",
       "      <th>35559</th>\n",
       "      <td>University of Westminster</td>\n",
       "      <td>Dato mancante</td>\n",
       "      <td>601-800</td>\n",
       "      <td>Dato mancante</td>\n",
       "      <td>1</td>\n",
       "    </tr>\n",
       "    <tr>\n",
       "      <th>35560</th>\n",
       "      <td>Xidian University</td>\n",
       "      <td>Dato mancante</td>\n",
       "      <td>601-800</td>\n",
       "      <td>980</td>\n",
       "      <td>2</td>\n",
       "    </tr>\n",
       "    <tr>\n",
       "      <th>35561</th>\n",
       "      <td>Xidian University</td>\n",
       "      <td>Dato mancante</td>\n",
       "      <td>601-800</td>\n",
       "      <td>991</td>\n",
       "      <td>2</td>\n",
       "    </tr>\n",
       "    <tr>\n",
       "      <th>35562</th>\n",
       "      <td>Yeungnam University</td>\n",
       "      <td>Dato mancante</td>\n",
       "      <td>601-800</td>\n",
       "      <td>776</td>\n",
       "      <td>2</td>\n",
       "    </tr>\n",
       "    <tr>\n",
       "      <th>35563</th>\n",
       "      <td>Yeungnam University</td>\n",
       "      <td>Dato mancante</td>\n",
       "      <td>601-800</td>\n",
       "      <td>770</td>\n",
       "      <td>2</td>\n",
       "    </tr>\n",
       "    <tr>\n",
       "      <th>35564</th>\n",
       "      <td>Yıldız Technical University</td>\n",
       "      <td>Dato mancante</td>\n",
       "      <td>601-800</td>\n",
       "      <td>Dato mancante</td>\n",
       "      <td>1</td>\n",
       "    </tr>\n",
       "    <tr>\n",
       "      <th>35565</th>\n",
       "      <td>Yokohama City University</td>\n",
       "      <td>Dato mancante</td>\n",
       "      <td>601-800</td>\n",
       "      <td>461</td>\n",
       "      <td>2</td>\n",
       "    </tr>\n",
       "    <tr>\n",
       "      <th>35566</th>\n",
       "      <td>Yokohama City University</td>\n",
       "      <td>Dato mancante</td>\n",
       "      <td>601-800</td>\n",
       "      <td>513</td>\n",
       "      <td>2</td>\n",
       "    </tr>\n",
       "    <tr>\n",
       "      <th>35567</th>\n",
       "      <td>Yokohama National University</td>\n",
       "      <td>Dato mancante</td>\n",
       "      <td>601-800</td>\n",
       "      <td>339</td>\n",
       "      <td>2</td>\n",
       "    </tr>\n",
       "    <tr>\n",
       "      <th>35568</th>\n",
       "      <td>Yokohama National University</td>\n",
       "      <td>Dato mancante</td>\n",
       "      <td>601-800</td>\n",
       "      <td>518</td>\n",
       "      <td>2</td>\n",
       "    </tr>\n",
       "    <tr>\n",
       "      <th>35569</th>\n",
       "      <td>Yuan Ze University</td>\n",
       "      <td>Dato mancante</td>\n",
       "      <td>601-800</td>\n",
       "      <td>952</td>\n",
       "      <td>2</td>\n",
       "    </tr>\n",
       "    <tr>\n",
       "      <th>35570</th>\n",
       "      <td>Yuan Ze University</td>\n",
       "      <td>Dato mancante</td>\n",
       "      <td>601-800</td>\n",
       "      <td>979</td>\n",
       "      <td>2</td>\n",
       "    </tr>\n",
       "  </tbody>\n",
       "</table>\n",
       "</div>"
      ],
      "text/plain": [
       "                                         university_name          times  \\\n",
       "35511                              Texas Tech University        301-400   \n",
       "35512                              Texas Tech University        305-402   \n",
       "35513                              Texas Tech University        303-401   \n",
       "35514                              Texas Tech University        303-401   \n",
       "35515                              Texas Tech University        301-400   \n",
       "35516                              Texas Tech University        401-500   \n",
       "35517                              Texas Tech University        401-500   \n",
       "35518                                   Tokai University  Dato mancante   \n",
       "35519                                   Tokai University  Dato mancante   \n",
       "35520                               Tokushima University  Dato mancante   \n",
       "35521  Tokyo University of Marine Science and Technology  Dato mancante   \n",
       "35522                        Tokyo University of Science        401-500   \n",
       "35523                        Tokyo University of Science        401-500   \n",
       "35524                             Tomsk State University  Dato mancante   \n",
       "35525                                 Tottori University  Dato mancante   \n",
       "35526                                 Tottori University  Dato mancante   \n",
       "35527                 Toyohashi University of Technology  Dato mancante   \n",
       "35528                     Universiti Kebangsaan Malaysia  Dato mancante   \n",
       "35529                          Universiti Putra Malaysia  Dato mancante   \n",
       "35530                          Universiti Sains Malaysia  Dato mancante   \n",
       "35531                          Universiti Teknologi MARA  Dato mancante   \n",
       "35532                            Ural Federal University  Dato mancante   \n",
       "35533           V.N. Karazin Kharkiv National University  Dato mancante   \n",
       "35534                                 University of Vigo        401-500   \n",
       "35535                                 University of Vigo        401-500   \n",
       "35536                                 Vilnius University  Dato mancante   \n",
       "35537                                 Vilnius University  Dato mancante   \n",
       "35538                    Warsaw University of Technology  Dato mancante   \n",
       "35539                    Warsaw University of Technology  Dato mancante   \n",
       "35540                                  Waseda University        301-400   \n",
       "35541                                  Waseda University        301-400   \n",
       "35542                                  Waseda University        305-402   \n",
       "35543                                  Waseda University        303-401   \n",
       "35544                                  Waseda University        303-401   \n",
       "35545                                  Waseda University        301-400   \n",
       "35546                                  Waseda University        301-400   \n",
       "35547                                  Waseda University        401-500   \n",
       "35548                                  Waseda University        301-400   \n",
       "35549                                  Waseda University        301-400   \n",
       "35550                                  Waseda University        305-402   \n",
       "35551                                  Waseda University        303-401   \n",
       "35552                                  Waseda University        303-401   \n",
       "35553                                  Waseda University        301-400   \n",
       "35554                                  Waseda University        301-400   \n",
       "35555                                  Waseda University        401-500   \n",
       "35556                         University of West Bohemia  Dato mancante   \n",
       "35557                  University of the West of England  Dato mancante   \n",
       "35558                       West University of Timişoara  Dato mancante   \n",
       "35559                          University of Westminster  Dato mancante   \n",
       "35560                                  Xidian University  Dato mancante   \n",
       "35561                                  Xidian University  Dato mancante   \n",
       "35562                                Yeungnam University  Dato mancante   \n",
       "35563                                Yeungnam University  Dato mancante   \n",
       "35564                        Yıldız Technical University  Dato mancante   \n",
       "35565                           Yokohama City University  Dato mancante   \n",
       "35566                           Yokohama City University  Dato mancante   \n",
       "35567                       Yokohama National University  Dato mancante   \n",
       "35568                       Yokohama National University  Dato mancante   \n",
       "35569                                 Yuan Ze University  Dato mancante   \n",
       "35570                                 Yuan Ze University  Dato mancante   \n",
       "\n",
       "          cwur       shanghai  counter  \n",
       "35511  601-800  Dato mancante        2  \n",
       "35512  601-800  Dato mancante        2  \n",
       "35513  601-800  Dato mancante        2  \n",
       "35514  601-800  Dato mancante        2  \n",
       "35515  601-800  Dato mancante        2  \n",
       "35516  601-800  Dato mancante        2  \n",
       "35517  601-800  Dato mancante        2  \n",
       "35518  601-800            589        2  \n",
       "35519  601-800            622        2  \n",
       "35520  601-800  Dato mancante        1  \n",
       "35521  601-800  Dato mancante        1  \n",
       "35522  601-800            413        3  \n",
       "35523  601-800            481        3  \n",
       "35524  601-800  Dato mancante        1  \n",
       "35525  601-800            584        2  \n",
       "35526  601-800            736        2  \n",
       "35527  601-800  Dato mancante        1  \n",
       "35528  601-800  Dato mancante        1  \n",
       "35529  601-800  Dato mancante        1  \n",
       "35530  601-800  Dato mancante        1  \n",
       "35531  601-800  Dato mancante        1  \n",
       "35532  601-800  Dato mancante        1  \n",
       "35533  601-800  Dato mancante        1  \n",
       "35534  601-800            692        3  \n",
       "35535  601-800            686        3  \n",
       "35536  601-800            838        2  \n",
       "35537  601-800            791        2  \n",
       "35538  601-800            688        2  \n",
       "35539  601-800            646        2  \n",
       "35540  601-800             40        3  \n",
       "35541  601-800             40        3  \n",
       "35542  601-800             40        3  \n",
       "35543  601-800             40        3  \n",
       "35544  601-800             40        3  \n",
       "35545  601-800             40        3  \n",
       "35546  601-800             40        3  \n",
       "35547  601-800             40        3  \n",
       "35548  601-800             38        3  \n",
       "35549  601-800             38        3  \n",
       "35550  601-800             38        3  \n",
       "35551  601-800             38        3  \n",
       "35552  601-800             38        3  \n",
       "35553  601-800             38        3  \n",
       "35554  601-800             38        3  \n",
       "35555  601-800             38        3  \n",
       "35556  601-800  Dato mancante        1  \n",
       "35557  601-800  Dato mancante        1  \n",
       "35558  601-800  Dato mancante        1  \n",
       "35559  601-800  Dato mancante        1  \n",
       "35560  601-800            980        2  \n",
       "35561  601-800            991        2  \n",
       "35562  601-800            776        2  \n",
       "35563  601-800            770        2  \n",
       "35564  601-800  Dato mancante        1  \n",
       "35565  601-800            461        2  \n",
       "35566  601-800            513        2  \n",
       "35567  601-800            339        2  \n",
       "35568  601-800            518        2  \n",
       "35569  601-800            952        2  \n",
       "35570  601-800            979        2  "
      ]
     },
     "execution_count": 173,
     "metadata": {},
     "output_type": "execute_result"
    }
   ],
   "source": [
    "tabella_merge['counter']=tabella_merge.apply(lambda x:counter(x.times,x.cwur,x.shanghai), axis=1)\n",
    "tabella_merge.tail(60)"
   ]
  },
  {
   "cell_type": "markdown",
   "metadata": {},
   "source": [
    "11. In the times ranking, compute the number of times each university appears"
   ]
  },
  {
   "cell_type": "code",
   "execution_count": null,
   "metadata": {},
   "outputs": [],
   "source": [
    "punto11 = timesData.groupby('university_name', as_index = False)['world_rank'].count()\n",
    "punto11"
   ]
  },
  {
   "cell_type": "markdown",
   "metadata": {},
   "source": [
    "12. Find the universities that appear at most twice in the times ranking."
   ]
  },
  {
   "cell_type": "code",
   "execution_count": null,
   "metadata": {},
   "outputs": [],
   "source": [
    "punto12 = punto11[punto11['world_rank']<= 2]\n",
    "punto12"
   ]
  },
  {
   "cell_type": "markdown",
   "metadata": {},
   "source": [
    "13. The universities that, in any year, have the same position in all three rankings (they must have the same position in a year)."
   ]
  },
  {
   "cell_type": "code",
   "execution_count": 78,
   "metadata": {},
   "outputs": [],
   "source": [
    "punto13 = pd.merge(timesData, cwurData, left_on=['university_name','year'], right_on = ['institution','year'])\n",
    "punto13= pd.merge(punto13, shanghaiData, on= ['university_name', 'year'])\n",
    "punto13= punto13.rename(columns= {'world_rank_x':'times','world_rank_y': 'cwur','world_rank' : 'shanghai'})\n"
   ]
  },
  {
   "cell_type": "code",
   "execution_count": 103,
   "metadata": {},
   "outputs": [],
   "source": [
    "punto13= punto13[['university_name','year','times','cwur','shanghai']]\n",
    "punto13.head()"
   ]
  },
  {
   "cell_type": "code",
   "execution_count": 99,
   "metadata": {},
   "outputs": [
    {
     "name": "stdout",
     "output_type": "stream",
     "text": [
      "<class 'pandas.core.frame.DataFrame'>\n",
      "Int64Index: 551 entries, 0 to 550\n",
      "Data columns (total 5 columns):\n",
      " #   Column           Non-Null Count  Dtype \n",
      "---  ------           --------------  ----- \n",
      " 0   university_name  551 non-null    object\n",
      " 1   year             551 non-null    int64 \n",
      " 2   times            551 non-null    object\n",
      " 3   cwur             551 non-null    int64 \n",
      " 4   shanghai         551 non-null    object\n",
      "dtypes: int64(2), object(3)\n",
      "memory usage: 25.8+ KB\n"
     ]
    }
   ],
   "source": [
    "punto13.info()"
   ]
  },
  {
   "cell_type": "code",
   "execution_count": 102,
   "metadata": {},
   "outputs": [
    {
     "data": {
      "text/html": [
       "<div>\n",
       "<style scoped>\n",
       "    .dataframe tbody tr th:only-of-type {\n",
       "        vertical-align: middle;\n",
       "    }\n",
       "\n",
       "    .dataframe tbody tr th {\n",
       "        vertical-align: top;\n",
       "    }\n",
       "\n",
       "    .dataframe thead th {\n",
       "        text-align: right;\n",
       "    }\n",
       "</style>\n",
       "<table border=\"1\" class=\"dataframe\">\n",
       "  <thead>\n",
       "    <tr style=\"text-align: right;\">\n",
       "      <th></th>\n",
       "      <th>university_name</th>\n",
       "      <th>year</th>\n",
       "      <th>times</th>\n",
       "      <th>cwur</th>\n",
       "      <th>shanghai</th>\n",
       "    </tr>\n",
       "  </thead>\n",
       "  <tbody>\n",
       "    <tr>\n",
       "      <th>2</th>\n",
       "      <td>Stanford University</td>\n",
       "      <td>2012</td>\n",
       "      <td>2</td>\n",
       "      <td>3</td>\n",
       "      <td>2</td>\n",
       "    </tr>\n",
       "    <tr>\n",
       "      <th>6</th>\n",
       "      <td>University of Chicago</td>\n",
       "      <td>2012</td>\n",
       "      <td>9</td>\n",
       "      <td>11</td>\n",
       "      <td>9</td>\n",
       "    </tr>\n",
       "    <tr>\n",
       "      <th>8</th>\n",
       "      <td>Yale University</td>\n",
       "      <td>2012</td>\n",
       "      <td>11</td>\n",
       "      <td>8</td>\n",
       "      <td>11</td>\n",
       "    </tr>\n",
       "    <tr>\n",
       "      <th>60</th>\n",
       "      <td>Stanford University</td>\n",
       "      <td>2013</td>\n",
       "      <td>2</td>\n",
       "      <td>2</td>\n",
       "      <td>2</td>\n",
       "    </tr>\n",
       "    <tr>\n",
       "      <th>67</th>\n",
       "      <td>Yale University</td>\n",
       "      <td>2013</td>\n",
       "      <td>11</td>\n",
       "      <td>10</td>\n",
       "      <td>11</td>\n",
       "    </tr>\n",
       "    <tr>\n",
       "      <th>70</th>\n",
       "      <td>University of Pennsylvania</td>\n",
       "      <td>2013</td>\n",
       "      <td>15</td>\n",
       "      <td>12</td>\n",
       "      <td>15</td>\n",
       "    </tr>\n",
       "    <tr>\n",
       "      <th>79</th>\n",
       "      <td>University of California, Santa Barbara</td>\n",
       "      <td>2013</td>\n",
       "      <td>35</td>\n",
       "      <td>37</td>\n",
       "      <td>35</td>\n",
       "    </tr>\n",
       "    <tr>\n",
       "      <th>109</th>\n",
       "      <td>Princeton University</td>\n",
       "      <td>2014</td>\n",
       "      <td>6</td>\n",
       "      <td>9</td>\n",
       "      <td>6</td>\n",
       "    </tr>\n",
       "    <tr>\n",
       "      <th>111</th>\n",
       "      <td>University of Chicago</td>\n",
       "      <td>2014</td>\n",
       "      <td>9</td>\n",
       "      <td>8</td>\n",
       "      <td>9</td>\n",
       "    </tr>\n",
       "    <tr>\n",
       "      <th>112</th>\n",
       "      <td>Yale University</td>\n",
       "      <td>2014</td>\n",
       "      <td>11</td>\n",
       "      <td>10</td>\n",
       "      <td>11</td>\n",
       "    </tr>\n",
       "    <tr>\n",
       "      <th>113</th>\n",
       "      <td>University of California, Los Angeles</td>\n",
       "      <td>2014</td>\n",
       "      <td>12</td>\n",
       "      <td>15</td>\n",
       "      <td>12</td>\n",
       "    </tr>\n",
       "    <tr>\n",
       "      <th>115</th>\n",
       "      <td>University of Pennsylvania</td>\n",
       "      <td>2014</td>\n",
       "      <td>16</td>\n",
       "      <td>14</td>\n",
       "      <td>16</td>\n",
       "    </tr>\n",
       "    <tr>\n",
       "      <th>331</th>\n",
       "      <td>University of Cambridge</td>\n",
       "      <td>2015</td>\n",
       "      <td>5</td>\n",
       "      <td>4</td>\n",
       "      <td>5</td>\n",
       "    </tr>\n",
       "    <tr>\n",
       "      <th>336</th>\n",
       "      <td>University of California, Los Angeles</td>\n",
       "      <td>2015</td>\n",
       "      <td>12</td>\n",
       "      <td>15</td>\n",
       "      <td>12</td>\n",
       "    </tr>\n",
       "  </tbody>\n",
       "</table>\n",
       "</div>"
      ],
      "text/plain": [
       "                             university_name  year times  cwur shanghai\n",
       "2                        Stanford University  2012     2     3        2\n",
       "6                      University of Chicago  2012     9    11        9\n",
       "8                            Yale University  2012    11     8       11\n",
       "60                       Stanford University  2013     2     2        2\n",
       "67                           Yale University  2013    11    10       11\n",
       "70                University of Pennsylvania  2013    15    12       15\n",
       "79   University of California, Santa Barbara  2013    35    37       35\n",
       "109                     Princeton University  2014     6     9        6\n",
       "111                    University of Chicago  2014     9     8        9\n",
       "112                          Yale University  2014    11    10       11\n",
       "113    University of California, Los Angeles  2014    12    15       12\n",
       "115               University of Pennsylvania  2014    16    14       16\n",
       "331                  University of Cambridge  2015     5     4        5\n",
       "336    University of California, Los Angeles  2015    12    15       12"
      ]
     },
     "execution_count": 102,
     "metadata": {},
     "output_type": "execute_result"
    }
   ],
   "source": [
    "punto13 = punto13.loc[(punto13['times'] == punto13['shanghai'])]\n",
    "punto13\n"
   ]
  },
  {
   "cell_type": "code",
   "execution_count": 105,
   "metadata": {},
   "outputs": [
    {
     "data": {
      "text/html": [
       "<div>\n",
       "<style scoped>\n",
       "    .dataframe tbody tr th:only-of-type {\n",
       "        vertical-align: middle;\n",
       "    }\n",
       "\n",
       "    .dataframe tbody tr th {\n",
       "        vertical-align: top;\n",
       "    }\n",
       "\n",
       "    .dataframe thead th {\n",
       "        text-align: right;\n",
       "    }\n",
       "</style>\n",
       "<table border=\"1\" class=\"dataframe\">\n",
       "  <thead>\n",
       "    <tr style=\"text-align: right;\">\n",
       "      <th></th>\n",
       "      <th>university_name</th>\n",
       "      <th>year</th>\n",
       "      <th>times</th>\n",
       "      <th>cwur</th>\n",
       "      <th>shanghai</th>\n",
       "    </tr>\n",
       "  </thead>\n",
       "  <tbody>\n",
       "    <tr>\n",
       "      <th>60</th>\n",
       "      <td>Stanford University</td>\n",
       "      <td>2013</td>\n",
       "      <td>2</td>\n",
       "      <td>2</td>\n",
       "      <td>2</td>\n",
       "    </tr>\n",
       "  </tbody>\n",
       "</table>\n",
       "</div>"
      ],
      "text/plain": [
       "        university_name  year  times  cwur  shanghai\n",
       "60  Stanford University  2013      2     2         2"
      ]
     },
     "execution_count": 105,
     "metadata": {},
     "output_type": "execute_result"
    }
   ],
   "source": [
    "punto13['times']=pd.to_numeric(punto13['times'], errors='coerce')\n",
    "punto13['shanghai']=pd.to_numeric(punto13['shanghai'], errors='coerce')\n",
    "punto13.loc[(punto13['times'] == punto13['cwur'])]"
   ]
  },
  {
   "cell_type": "code",
   "execution_count": null,
   "metadata": {},
   "outputs": [],
   "source": []
  }
 ],
 "metadata": {
  "kernelspec": {
   "display_name": "Python 3",
   "language": "python",
   "name": "python3"
  },
  "language_info": {
   "codemirror_mode": {
    "name": "ipython",
    "version": 3
   },
   "file_extension": ".py",
   "mimetype": "text/x-python",
   "name": "python",
   "nbconvert_exporter": "python",
   "pygments_lexer": "ipython3",
   "version": "3.8.3"
  }
 },
 "nbformat": 4,
 "nbformat_minor": 4
}
